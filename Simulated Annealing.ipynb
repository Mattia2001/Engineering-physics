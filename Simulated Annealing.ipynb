{
 "cells": [
  {
   "cell_type": "markdown",
   "id": "heated-reply",
   "metadata": {},
   "source": [
    "# Simulated annealing\n",
    "\n",
    "The annealing is a metallurgical process in which the temperature of a metal is increased and then gradually decreased. In this way, the molecules of the material are first brought into a highly disordered state and then they move to a more ordered disposition i.e. the crystal lattice. The cooling must occur sufficently slowly but then the material will result hardened by the process. A similar approach can be used to solve optimization processes which require to find the minimum (or the maximum) of a multi-dimentionate function, in presence of multiple local minima (or maxima), which make it impossible to use exact methods such as gradient descent. In opposition to Metropolis-Hastings method, which always samples configurations with lower energy than the current one, the simulated annealing can select configurations whose energy is higher than the current one with a certain probability. This probability is very high in the first stages of the algorithm, when the temperature is high, then, as the cooling moves takes place,  it will be more and more unlikely to select energetically-disadvantageous configurations. This part of the algorithm is fundamental because it allows us to avoid local minima or maxima, which act as traps for any exact algorithm. The cooling must occur slowly enough to allow the algorithm to reach the global minimum of the function. \n",
    "\n",
    "A common example of usage of this algorithm is to solve the problem of the travelling salesman. By the way, it finds its main applications in computational chemistry, digital electronics, jobs placement and, in general, in all those contexts where the research space is discrete."
   ]
  },
  {
   "cell_type": "markdown",
   "id": "brown-situation",
   "metadata": {},
   "source": [
    "As a first approach to this algorithm, we try to solve the travelling salesman problem. In first place we want to generate a set of random points constituting the cities to be visited by the salesman. "
   ]
  },
  {
   "cell_type": "code",
   "execution_count": null,
   "id": "requested-indie",
   "metadata": {},
   "outputs": [],
   "source": [
    "import random\n",
    "from math import exp\n",
    "from math import sqrt\n",
    "import matplotlib.pyplot as plt\n",
    "import numpy as np"
   ]
  },
  {
   "cell_type": "code",
   "execution_count": null,
   "id": "radio-average",
   "metadata": {},
   "outputs": [],
   "source": [
    "def get_random_points(N_points, x_max, y_max):\n",
    "    x_values = [random.randint(0,x_max) for i in range(N_points)]\n",
    "    y_values = [random.randint(0,y_max) for i in range(N_points)]\n",
    "\n",
    "    # append to the lists their initial elements in order to close the lines when points are plotted\n",
    "\n",
    "    x_values.append(x_values[0])\n",
    "    y_values.append(y_values[0])\n",
    "\n",
    "    route = [[i,j] for i,j in zip(x_values,y_values)]\n",
    "\n",
    "    #print(route)\n",
    "\n",
    "    return route"
   ]
  },
  {
   "cell_type": "markdown",
   "id": "reasonable-barbados",
   "metadata": {},
   "source": [
    "Now we have to generate a path between all these points. The first path has to be randomly-generated. Then, we have to compute the length of the path. The total length of the path represents the cost function which has to be minimized by the algorithm."
   ]
  },
  {
   "cell_type": "code",
   "execution_count": null,
   "id": "fewer-junction",
   "metadata": {},
   "outputs": [],
   "source": [
    "def distance_two_points(x1, x2, y1, y2):\n",
    "    distance = sqrt((x2-x1)**2 + (y2-y1)**2)\n",
    "    return distance"
   ]
  },
  {
   "cell_type": "code",
   "execution_count": null,
   "id": "increased-resistance",
   "metadata": {},
   "outputs": [],
   "source": [
    "def total_distance(route): # this is the objective function in the travelling slesman problem\n",
    "\n",
    "    total_distance = 0\n",
    "\n",
    "    for point_index, point in enumerate(route[:-1]):\n",
    "        total_distance = total_distance + distance_two_points(point[0], route[point_index+1][0], point[1], route[point_index+1][1])\n",
    "\n",
    "    return total_distance"
   ]
  },
  {
   "cell_type": "code",
   "execution_count": null,
   "id": "approved-report",
   "metadata": {},
   "outputs": [],
   "source": [
    "def new_delimiter(delimiter_old, delimiter_min, reset_value, P):\n",
    "\n",
    "    delimiter_new = delimiter_old*0.9999\n",
    "\n",
    "    if delimiter_new < delimiter_min:\n",
    "        delimiter_new = reset_value\n",
    "\n",
    "    return delimiter_new"
   ]
  },
  {
   "cell_type": "markdown",
   "id": "conditional-approach",
   "metadata": {},
   "source": [
    "In the simulated annealing algorithm, we are asked to generate new routes. Hence we need a function that receives the list of points to be visited and shuffles them in such a way that they will be visited in a different order i.e. a different route. We shuffle all the points except the first and the last one in order to close the line whatever is the route. We stress the fact that the points in the route are always the same but they are listed in the order in which they are going to be visited."
   ]
  },
  {
   "cell_type": "code",
   "execution_count": null,
   "id": "advanced-hacker",
   "metadata": {},
   "outputs": [],
   "source": [
    "# extract two elements to be swapped and check whether they respect the delimiter\n",
    "# the function also returns the two points involved in the swap for reasons related to the delimiter comparison\n",
    "\n",
    "def get_new_route(route, delimiter, P):\n",
    "\n",
    "    shuffled_route = list.copy(route)\n",
    "    first_point, last_point, middle_points = shuffled_route[0], shuffled_route[-1], shuffled_route[1:-1]\n",
    "\n",
    "    # extract two elements to be swapped\n",
    "\n",
    "    position1 = random.randint(0,len(middle_points)-1)\n",
    "    position2 = random.randint(0,len(middle_points)-1)\n",
    "\n",
    "    #get and swap the two points\n",
    "\n",
    "    middle_points[position1], middle_points[position2] = middle_points[position2], middle_points[position1]\n",
    "\n",
    "    shuffled_route = [first_point] + middle_points + [last_point]\n",
    "    return shuffled_route, middle_points[position1], middle_points[position2]"
   ]
  },
  {
   "cell_type": "markdown",
   "id": "recognized-photography",
   "metadata": {},
   "source": [
    "We need a function to plot the points in a given route."
   ]
  },
  {
   "cell_type": "code",
   "execution_count": null,
   "id": "finished-afghanistan",
   "metadata": {},
   "outputs": [],
   "source": [
    "def print_route(route):\n",
    "    xs = [point[0] for point in route]\n",
    "    ys = [point[1] for point in route]\n",
    "    #plt.plot(xs, ys, 'bo', linestyle='--')\n",
    "    return xs, ys"
   ]
  },
  {
   "cell_type": "markdown",
   "id": "multiple-diabetes",
   "metadata": {},
   "source": [
    "At this point we can start working on the algorithm itself. In first place we need a function implementing the cooling schedule i.e. producing decreasing temperature values at a certain rate. We choose the cooling schedule:\n",
    "\n",
    "$$T_{i+1} = \\frac{T_i}{\\frac{i}{\\alpha} + 1} \\hspace{1cm} \\alpha \\in \\mathcal{R}$$\n",
    "\n",
    "As a second and more robust cooling procedure we can try to implement the Lam schedule, which mimics the behaviour observed in many, long-lasting successful experiments."
   ]
  },
  {
   "cell_type": "code",
   "execution_count": null,
   "id": "corrected-wednesday",
   "metadata": {},
   "outputs": [],
   "source": [
    "def Lam_schedule(P, T):\n",
    "    if P > 0.96:\n",
    "        T *= 0.5\n",
    "        return T \n",
    "    if (P <= 0.95 and P > 0.8):\n",
    "        T *= 0.9\n",
    "        return T \n",
    "    if (P <= 0.8 and P > 0.15):\n",
    "        T *= 0.95\n",
    "        return T\n",
    "    if (P <= 0.15):\n",
    "        T *= 0.8\n",
    "        return T"
   ]
  },
  {
   "cell_type": "code",
   "execution_count": null,
   "id": "focused-label",
   "metadata": {},
   "outputs": [],
   "source": [
    "# this function keeps making swaps until the produced one respects the delimiter constraint\n",
    "\n",
    "def validate_swap(current_route, delimiter, P, delimiter_min, reset_value):\n",
    "    is_valid = False\n",
    "    new_route = current_route  # Initialize new_route outside the loop\n",
    "\n",
    "    while not is_valid:\n",
    "        new_route, swapped_point_1, swapped_point_2 = get_new_route(new_route, delimiter, P)\n",
    "        x1, x2, y1, y2 = swapped_point_1[0], swapped_point_2[0], swapped_point_1[1], swapped_point_2[1]\n",
    "        if distance_two_points(x1, x2, y1, y2) <= delimiter:\n",
    "            is_valid = True\n",
    "\n",
    "    delimiter = new_delimiter(delimiter, delimiter_min, reset_value, P)  # Update delimiter\n",
    "\n",
    "    return delimiter, new_route  # Return the updated delimiter and new_route"
   ]
  },
  {
   "cell_type": "code",
   "execution_count": null,
   "id": "vocational-handling",
   "metadata": {},
   "outputs": [],
   "source": [
    "def simulated_annealing(initial_points, T0, Tmin, delimiter0):\n",
    "\n",
    "    current_route = initial_points\n",
    "    current_length = total_distance(current_route)\n",
    "    T = T0\n",
    "    iteration = 0\n",
    "    acceptance_prob = 0.99\n",
    "    delimiter = delimiter0\n",
    "\n",
    "    while T > Tmin:\n",
    "        r = np.random.random()\n",
    "\n",
    "        # here \"validate swap\" indicates that the new configuration has to respect the limit imposed by the swap delimiter\n",
    "\n",
    "        delimiter, new_route = validate_swap(current_route, delimiter, acceptance_prob, 0.5, 10)\n",
    "        distance_diff = total_distance(new_route) - total_distance(current_route)\n",
    "        acceptance_prob = np.exp(-distance_diff / T)\n",
    "\n",
    "        if distance_diff <= 0 or acceptance_prob > r:\n",
    "            current_route = new_route\n",
    "            print(f\"Iteration: {iteration}, Temperature: {T}, Distance: {total_distance(current_route)}, Delimiter: {delimiter}, Route: {current_route}\")\n",
    "            #T = Lam_schedule(T, acceptance_prob)  # Update temperature with Lam schedule\n",
    "            T = 0.999*T\n",
    "\n",
    "            iteration += 1\n",
    "\n",
    "    final_distance = total_distance(current_route)\n",
    "    return current_route, final_distance, iteration, T"
   ]
  },
  {
   "cell_type": "markdown",
   "id": "technical-boost",
   "metadata": {},
   "source": [
    "Here we propose a function for low-temperature annealing, which can be invoked to optimize a sub-optimal result obtained by a high-temperature simulated annealing. The function receives as input the sub-optimal route as well as the exponent of the initial and final temperatures. Then, the sub-optimal route is processed via simualted annealing with the given data. If the length of the resulting route is smaller, then restart the annealing by decreasing by 1 the exponent of the initial temperature. This is needed to keep optimizing the route without disrupting the ordered structure obtained in previous annealing schedules. If the length is intstead longer then the previous one, then it is admissible to increase by 1 the exponent, in order to move away fro mthe local minimum. We keep doing so until the exponent of the initial temperature is equal to - 2 (I played with the algorithm many times and I found that there are no more swaps once the temperateure reached $10^{-2}$ but I remain open to more rigorous formulations)."
   ]
  },
  {
   "cell_type": "code",
   "execution_count": null,
   "id": "sticky-demand",
   "metadata": {},
   "outputs": [],
   "source": [
    "def low_T_annealing(sub_optimal_route, initial_exponent, final_exponent):\n",
    "\n",
    "    try:\n",
    "        route_to_process = sub_optimal_route\n",
    "        distance = total_distance(route_to_process)\n",
    "        exponent = initial_exponent\n",
    "        last_exponent = final_exponent\n",
    "        delimiter = 84\n",
    "\n",
    "        #lists containing the best route and length at each iteration\n",
    "        #this is required because the algorithm may find an optimal solution but it could lose it\n",
    "        #if it has to be run again\n",
    "\n",
    "        best_configurations = []\n",
    "        best_lengths = []\n",
    "\n",
    "        while exponent > 0:\n",
    "            current_route, final_distance, iteration, T = simulated_annealing(route_to_process, 10**(exponent), 10**(last_exponent), delimiter)\n",
    "\n",
    "            if final_distance < distance: # a better configuration has been found\n",
    "\n",
    "                #decrease the next exponent to avoid excessive re-shuffling\n",
    "                exponent = exponent - 1\n",
    "                #delimiter = delimiter - 5\n",
    "                route_to_process = current_route\n",
    "\n",
    "                # add the new best configuration to the list of best configurations found\n",
    "                best_configurations.append(route_to_process)\n",
    "                best_lengths.append(final_distance)\n",
    "\n",
    "            else:\n",
    "                # this \"if\" is needed to avoid that the exponent increases too much and disrupts the ordered configuration\n",
    "                # in addition to making the algorithm run excessively long\n",
    "                if exponent < 2:\n",
    "                  #increase the next exponent to add some re-shuffling\n",
    "                  exponent = exponent + 1\n",
    "                  #delimiter = delimiter + 4\n",
    "\n",
    "        optimal_route = current_route\n",
    "        optimal_distance = total_distance(optimal_route)\n",
    "\n",
    "        # in the first case, the optimum solution is exactly the last one\n",
    "        if optimal_distance == min(best_lengths):\n",
    "            return optimal_route, optimal_distance\n",
    "\n",
    "            # otherwise, it was found but discarded because the stopping condition of the algorithm was still to be met\n",
    "        else:\n",
    "            min_index = best_lengths.index(min(best_lengths))\n",
    "            optimal_route = best_configurations[min_index]\n",
    "            optimal_distance = best_lengths[min_index]\n",
    "            return optimal_route , optimal_distance\n",
    "\n",
    "        # if the algorithm lasts too long the user can stop it\n",
    "        # the program will return the best cofiguration it was able to find up to the interrupt\n",
    "    except KeyboardInterrupt:\n",
    "        print(\"Low temperature annealing stopped by the user\")\n",
    "    finally:\n",
    "\n",
    "        # if the algorithm effectively found some better configuration, provide it to the user\n",
    "\n",
    "        if len(best_lengths) > 0:\n",
    "            # return the best configuration found\n",
    "            min_index = best_lengths.index(min(best_lengths))\n",
    "            optimal_route = best_configurations[min_index]\n",
    "            optimal_distance = best_lengths[min_index]\n",
    "            return optimal_route , optimal_distance\n",
    "\n",
    "        else:\n",
    "            print(\"The low-temperature annealing did not find any possible improvement.\")\n"
   ]
  },
  {
   "cell_type": "code",
   "execution_count": null,
   "id": "funky-surprise",
   "metadata": {},
   "outputs": [],
   "source": [
    "# 60 points means 59! possible routes, which is in the same order of magnitude of Eddington number i.e. the estimate of protons in the universe.\n",
    "N_points = 60\n",
    "x_max = 60\n",
    "y_max = 60\n",
    "\n",
    "route0 = get_random_points(N_points, x_max, y_max)\n",
    "print(f\"Initial route: {route0}\")\n",
    "print(f\"Length of initial route: {total_distance(route0)}\")\n",
    "xs, ys = print_route(route0)\n",
    "plt.plot(xs, ys, 'bo', linestyle='--')\n",
    "plt.grid(True)\n",
    "plt.show"
   ]
  },
  {
   "cell_type": "code",
   "execution_count": null,
   "id": "approximate-letter",
   "metadata": {},
   "outputs": [],
   "source": [
    "final_route, final_distance, final_iteration, final_temperature = simulated_annealing(route0, 10**(10), 10**(-2), 84)\n",
    "\n",
    "#print(f\"Final distance: {final_distance}\")\n",
    "print(final_route)\n",
    "xs, ys = print_route(final_route)\n",
    "plt.title('Temperature= {}'.format(format(final_temperature, '.2e')) + '  ' + 'Iteration= {}'.format(final_iteration) + '  ' + 'Distance= {}'.format(round(final_distance), 2))\n",
    "plt.plot(xs, ys, 'bo', linestyle='--')\n",
    "plt.grid(True)\n",
    "plt.show"
   ]
  },
  {
   "cell_type": "markdown",
   "id": "bearing-switzerland",
   "metadata": {},
   "source": [
    "If the first simulated annealing did not produce the optimal solution we can run it again strating from a low temperature in order to keep the optimized path as much as possible."
   ]
  },
  {
   "cell_type": "code",
   "execution_count": null,
   "id": "initial-accuracy",
   "metadata": {},
   "outputs": [],
   "source": [
    "optimal_route, optimal_distance = low_T_annealing(final_route, 2, -2)\n",
    "\n",
    "xs, ys = print_route(optimal_route)\n",
    "print(\"\")\n",
    "print(f\"Optimal route: {optimal_route}\")\n",
    "print(\"\")\n",
    "print(f\"Optimal distance: {optimal_distance}\")\n",
    "#plt.title('Distance= {}'.format(round(optimal_distance), 2) + ' ')\n",
    "plt.plot(xs, ys, 'bo', linestyle='--')\n",
    "plt.grid(True)\n",
    "plt.show"
   ]
  },
  {
   "cell_type": "code",
   "execution_count": null,
   "id": "greater-background",
   "metadata": {},
   "outputs": [],
   "source": []
  }
 ],
 "metadata": {
  "kernelspec": {
   "display_name": "Python 3",
   "language": "python",
   "name": "python3"
  },
  "language_info": {
   "codemirror_mode": {
    "name": "ipython",
    "version": 3
   },
   "file_extension": ".py",
   "mimetype": "text/x-python",
   "name": "python",
   "nbconvert_exporter": "python",
   "pygments_lexer": "ipython3",
   "version": "3.8.5"
  }
 },
 "nbformat": 4,
 "nbformat_minor": 5
}
